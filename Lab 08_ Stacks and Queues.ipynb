{
  "cells": [
    {
      "cell_type": "markdown",
      "metadata": {
        "state": "normal"
      },
      "source": [
        "# Lab: Stacks and Queues"
      ]
    },
    {
      "cell_type": "markdown",
      "metadata": {
        "state": "normal"
      },
      "source": [
        "## Overview\n",
        "\n",
        "This assignment involves the stack and queue abstract data types."
      ]
    },
    {
      "cell_type": "markdown",
      "metadata": {
        "state": "normal"
      },
      "source": [
        "## Stack applications\n",
        "\n",
        "The first two exercises ask you to use the stack data structure developed in class to develop two distinct stack-driven applications.\n",
        "\n",
        "Below is the completed stack implementation from class. While you needn't modify it for this assignment — indeed, all tests run on our end will *not* make use of any changes you introduce to the `Stack` class — we urge you to read through the code and make sure you understand how it works."
      ]
    },
    {
      "cell_type": "code",
      "execution_count": 3,
      "metadata": {
        "deletable": false,
        "editable": false,
        "id": "stack_impl",
        "nbgrader": {
          "grade": false,
          "grade_id": "stack_impl",
          "locked": true,
          "schema_version": 1,
          "solution": false
        },
        "state": "read_only",
        "trusted": false
      },
      "outputs": [],
      "source": [
        "class Stack:\n",
        "    class Node:\n",
        "        def __init__(self, val, next=None):\n",
        "            self.val = val\n",
        "            self.next  = next\n",
        "    \n",
        "    def __init__(self):\n",
        "        self.top = None\n",
        "\n",
        "    def push(self, val):\n",
        "        self.top = Stack.Node(val, self.top)\n",
        "        \n",
        "    def pop(self):\n",
        "        assert self.top, 'Stack is empty'\n",
        "        val = self.top.val\n",
        "        self.top = self.top.next\n",
        "        return val\n",
        "    \n",
        "    def peek(self):\n",
        "        return self.top.val if self.top else None\n",
        "    \n",
        "    def empty(self):\n",
        "        return self.top == None\n",
        "    \n",
        "    def __bool__(self):\n",
        "        return not self.empty()\n",
        "    \n",
        "    def __repr__(self):\n",
        "        if not self.top:\n",
        "            return ''\n",
        "        return '--> ' + ', '.join(str(x) for x in self)\n",
        "    \n",
        "    def __iter__(self):\n",
        "        n = self.top\n",
        "        while n:\n",
        "            yield n.val\n",
        "            n = n.next"
      ]
    },
    {
      "cell_type": "markdown",
      "metadata": {
        "state": "normal"
      },
      "source": [
        "### 1. Paired delimiter matching\n",
        "\n",
        "In class we wrote a function that uses a stack to help determine whether all paired delimiters (e.g., parentheses) in a given string are correctly matched.\n",
        "\n",
        "For this first exercise you will extend our implementation to check all the following paired delimiters: `{}, (), [], <>`. We've defined two strings — `delim_openers` and `delim_closers` — that might come in handy in your implementation (hint: look into using the `index` sequence method).  "
      ]
    },
    {
      "cell_type": "code",
      "execution_count": 10,
      "metadata": {
        "deletable": false,
        "id": "check_delim",
        "nbgrader": {
          "grade": false,
          "grade_id": "check_delim",
          "locked": false,
          "schema_version": 1,
          "solution": true
        },
        "starter_code": "delim_openers = '{([<'\ndelim_closers = '})]>'\n\ndef check_delimiters(expr):\n    \"\"\"Returns True if and only if `expr` contains only correctly matched delimiters, else returns False.\"\"\"\n    ",
        "state": "graded",
        "trusted": false
      },
      "outputs": [],
      "source": [
        "delim_openers = '{([<'\n",
        "delim_closers = '})]>'\n",
        "\n",
        "def check_delimiters(expr):\n",
        "    \"\"\"Returns True if and only if `expr` contains only correctly matched delimiters, else returns False.\"\"\"\n",
        "    s = Stack()\n",
        "    for i in expr:\n",
        "        if i in delim_openers:\n",
        "            s.push(i)\n",
        "\n",
        "        elif i in delim_closers:\n",
        "            if s.peek():\n",
        "                if delim_closers.index(i) == delim_openers.index(s.peek()):\n",
        "                    s.pop()\n",
        "                else:\n",
        "                    return False\n",
        "            else:       # no openers 4 closer\n",
        "                return False\n",
        "\n",
        "    return s.empty()"
      ]
    },
    {
      "cell_type": "code",
      "execution_count": 11,
      "metadata": {
        "deletable": false,
        "editable": false,
        "id": "check_delim_1",
        "nbgrader": {
          "grade": true,
          "grade_id": "check_delim_1",
          "locked": true,
          "points": 1,
          "schema_version": 1,
          "solution": false
        },
        "state": "read_only",
        "trusted": false
      },
      "outputs": [],
      "source": [
        "# (1 point)\n",
        "\n",
        "from unittest import TestCase\n",
        "tc = TestCase()\n",
        "tc.assertTrue(check_delimiters('()'))\n",
        "tc.assertTrue(check_delimiters('[]'))\n",
        "tc.assertTrue(check_delimiters('{}'))\n",
        "tc.assertTrue(check_delimiters('<>'))"
      ]
    },
    {
      "cell_type": "code",
      "execution_count": 12,
      "metadata": {
        "deletable": false,
        "editable": false,
        "id": "check_delim_2",
        "nbgrader": {
          "grade": true,
          "grade_id": "check_delim_2",
          "locked": true,
          "points": 1,
          "schema_version": 1,
          "solution": false
        },
        "state": "read_only",
        "trusted": false
      },
      "outputs": [],
      "source": [
        "# (1 point)\n",
        "\n",
        "from unittest import TestCase\n",
        "tc = TestCase()\n",
        "tc.assertTrue(check_delimiters('([])'))\n",
        "tc.assertTrue(check_delimiters('[{}]'))\n",
        "tc.assertTrue(check_delimiters('{<()>}'))\n",
        "tc.assertTrue(check_delimiters('<({[]})>'))"
      ]
    },
    {
      "cell_type": "code",
      "execution_count": 13,
      "metadata": {
        "deletable": false,
        "editable": false,
        "id": "check_delim_3",
        "nbgrader": {
          "grade": true,
          "grade_id": "check_delim_3",
          "locked": true,
          "points": 2,
          "schema_version": 1,
          "solution": false
        },
        "state": "read_only",
        "trusted": false
      },
      "outputs": [],
      "source": [
        "# (2 points)\n",
        "\n",
        "from unittest import TestCase\n",
        "tc = TestCase()\n",
        "tc.assertTrue(check_delimiters('([] () <> [])'))\n",
        "tc.assertTrue(check_delimiters('[{()} [] (<> <>) {}]'))\n",
        "tc.assertTrue(check_delimiters('{} <> () []'))\n",
        "tc.assertTrue(check_delimiters('<> ([] <()>) <[] [] <> <>>'))"
      ]
    },
    {
      "cell_type": "code",
      "execution_count": 14,
      "metadata": {
        "deletable": false,
        "editable": false,
        "id": "check_delim_4",
        "nbgrader": {
          "grade": true,
          "grade_id": "check_delim_4",
          "locked": true,
          "points": 1,
          "schema_version": 1,
          "solution": false
        },
        "state": "read_only",
        "trusted": false
      },
      "outputs": [],
      "source": [
        "# (1 point)\n",
        "\n",
        "from unittest import TestCase\n",
        "tc = TestCase()\n",
        "tc.assertFalse(check_delimiters('('))\n",
        "tc.assertFalse(check_delimiters('['))\n",
        "tc.assertFalse(check_delimiters('{'))\n",
        "tc.assertFalse(check_delimiters('<'))\n",
        "tc.assertFalse(check_delimiters(')'))\n",
        "tc.assertFalse(check_delimiters(']'))\n",
        "tc.assertFalse(check_delimiters('}'))\n",
        "tc.assertFalse(check_delimiters('>'))"
      ]
    },
    {
      "cell_type": "code",
      "execution_count": 15,
      "metadata": {
        "deletable": false,
        "editable": false,
        "id": "check_delim_5",
        "nbgrader": {
          "grade": true,
          "grade_id": "check_delim_5",
          "locked": true,
          "points": 1,
          "schema_version": 1,
          "solution": false
        },
        "state": "read_only",
        "trusted": false
      },
      "outputs": [],
      "source": [
        "# (1 point)\n",
        "\n",
        "from unittest import TestCase\n",
        "tc = TestCase()\n",
        "tc.assertFalse(check_delimiters('( ]'))\n",
        "tc.assertFalse(check_delimiters('[ )'))\n",
        "tc.assertFalse(check_delimiters('{ >'))\n",
        "tc.assertFalse(check_delimiters('< )'))"
      ]
    },
    {
      "cell_type": "code",
      "execution_count": 16,
      "metadata": {
        "deletable": false,
        "editable": false,
        "id": "check_delim_6",
        "nbgrader": {
          "grade": true,
          "grade_id": "check_delim_6",
          "locked": true,
          "points": 2,
          "schema_version": 1,
          "solution": false
        },
        "state": "read_only",
        "trusted": false
      },
      "outputs": [],
      "source": [
        "# (2 points)\n",
        "\n",
        "from unittest import TestCase\n",
        "tc = TestCase()\n",
        "tc.assertFalse(check_delimiters('[ ( ] )'))\n",
        "tc.assertFalse(check_delimiters('((((((( ))))))'))\n",
        "tc.assertFalse(check_delimiters('< < > > >'))\n",
        "tc.assertFalse(check_delimiters('( [] < {} )'))"
      ]
    },
    {
      "cell_type": "markdown",
      "metadata": {
        "state": "normal"
      },
      "source": [
        "### 2. Infix &rarr; Postfix conversion\n",
        "\n",
        "Another function we looked at was one that used a stack to evaluate a postfix arithmetic expression. Because most of us are more accustomed to infix-form arithmetic expressions (e.g., `2 * (3 + 4)`), however, the function seems to be of limited use. The good news: we can use a stack to convert an infix expression to postfix form!\n",
        "\n",
        "To do so, we will use the following algorithm:\n",
        "\n",
        "1. Start with an empty list and an empty stack. At the end of the algorithm, the list will contain the correctly ordered tokens of the postfix expression.\n",
        "\n",
        "2. Next, for each token in the expression (split on whitespace):\n",
        "\n",
        "    - if the token is a digit (the string `isdigit` method can be used to determine this), simply append it to the list; else, the token must be either an operator or an opening or closing parenthesis, in which case apply one of the following options:\n",
        "\n",
        "    - if the stack is empty or contains a left parenthesis on top, push the token onto the stack.\n",
        "\n",
        "    - if the token is a left parenthesis, push it on the stack.\n",
        "\n",
        "    - if the token is a right parenthesis, pop the stack and append all operators to the list until a left parenthesis is popped. Discard the pair of parentheses.\n",
        "\n",
        "    - if the token has higher precedence than the top of the stack, push it on the stack. For our purposes, the only operators are +, -, *, /, where the latter two have higher precedecence than the first two.\n",
        "\n",
        "    - if the token has equal precedence with the top of the stack, pop and append the top of the stack to the list and then push the incoming operator.\n",
        "\n",
        "    - if the incoming symbol has lower precedence than the symbol on the top of the stack, pop the stack and append it to the list. Then repeat the above tests against the new top of stack.\n",
        "\n",
        "3. After arriving at the end of the expression, pop and append all operators on the stack to the list.\n",
        "\n",
        "A writeup containing a detailed explanation of the steps above (though it prints the tokens immediately rather than adding them to a list) can be found at http://csis.pace.edu/~wolf/CS122/infix-postfix.htm"
      ]
    },
    {
      "cell_type": "code",
      "execution_count": 19,
      "metadata": {
        "deletable": false,
        "id": "infix_to_postfix",
        "nbgrader": {
          "grade": false,
          "grade_id": "infix_to_postfix",
          "locked": false,
          "schema_version": 1,
          "solution": true
        },
        "starter_code": "# you may find the following precedence dictionary useful\nprec = {'*': 2, '/': 2,\n        '+': 1, '-': 1}\n\ndef infix_to_postfix(expr):\n    \"\"\"Returns the postfix form of the infix expression found in `expr`\"\"\"\n    ops = Stack()\n    postfix = []\n    toks = expr.split()\n    \n    return ' '.join(postfix)",
        "state": "graded",
        "trusted": false
      },
      "outputs": [],
      "source": [
        "# you may find the following precedence dictionary useful\n",
        "prec = {'*': 2, '/': 2,\n",
        "        '+': 1, '-': 1,'(':0}\n",
        "\n",
        "def infix_to_postfix(expr):\n",
        "        \"\"\"Returns the postfix form of the infix expression found in `expr`\"\"\"\n",
        "        ops = Stack()\n",
        "        postfix = []\n",
        "        toks = expr.split()\n",
        "\n",
        "        for i in toks:\n",
        "                if i in '123456789':\n",
        "                        postfix.append(i)\n",
        "\n",
        "                elif i == '(':\n",
        "                        ops.push(i)\n",
        "                \n",
        "                elif i == ')':\n",
        "                        while ops.peek() != '(':\n",
        "                                postfix.append(ops.pop())\n",
        "                        ops.pop()\n",
        "\n",
        "                elif i in prec:\n",
        "                        if not ops.empty() and prec[i] <= prec[ops.peek()]:\n",
        "                                postfix.append(ops.pop())\n",
        "                        ops.push(i)\n",
        "\n",
        "        while not ops.empty():\n",
        "                postfix.append(ops.pop())\n",
        "\n",
        "    \n",
        "        return ' '.join(postfix)"
      ]
    },
    {
      "cell_type": "code",
      "execution_count": 20,
      "metadata": {
        "deletable": false,
        "editable": false,
        "id": "i_to_p_tests_1",
        "nbgrader": {
          "grade": true,
          "grade_id": "i_to_p_tests_1",
          "locked": true,
          "points": 3,
          "schema_version": 1,
          "solution": false
        },
        "state": "read_only",
        "trusted": false
      },
      "outputs": [],
      "source": [
        "# (3 points)\n",
        "\n",
        "from unittest import TestCase\n",
        "tc = TestCase()\n",
        "tc.assertEqual(infix_to_postfix('1'), '1')\n",
        "tc.assertEqual(infix_to_postfix('1 + 2'), '1 2 +')\n",
        "tc.assertEqual(infix_to_postfix('( 1 + 2 )'), '1 2 +')\n",
        "tc.assertEqual(infix_to_postfix('1 + 2 - 3'), '1 2 + 3 -')\n",
        "tc.assertEqual(infix_to_postfix('1 + ( 2 - 3 )'), '1 2 3 - +')"
      ]
    },
    {
      "cell_type": "code",
      "execution_count": 21,
      "metadata": {
        "deletable": false,
        "editable": false,
        "id": "i_to_p_tests_2",
        "nbgrader": {
          "grade": true,
          "grade_id": "i_to_p_tests_2",
          "locked": true,
          "points": 3,
          "schema_version": 1,
          "solution": false
        },
        "state": "read_only",
        "trusted": false
      },
      "outputs": [],
      "source": [
        "# (3 points)\n",
        "\n",
        "from unittest import TestCase\n",
        "tc = TestCase()\n",
        "tc.assertEqual(infix_to_postfix('1 + 2 * 3'), '1 2 3 * +')\n",
        "tc.assertEqual(infix_to_postfix('1 / 2 + 3 * 4'), '1 2 / 3 4 * +')\n",
        "tc.assertEqual(infix_to_postfix('1 * 2 * 3 + 4'), '1 2 * 3 * 4 +')\n",
        "tc.assertEqual(infix_to_postfix('1 + 2 * 3 * 4'), '1 2 3 * 4 * +')"
      ]
    },
    {
      "cell_type": "code",
      "execution_count": 22,
      "metadata": {
        "deletable": false,
        "editable": false,
        "id": "i_to_p_tests_3",
        "nbgrader": {
          "grade": true,
          "grade_id": "i_to_p_tests_3",
          "locked": true,
          "points": 3,
          "schema_version": 1,
          "solution": false
        },
        "state": "read_only",
        "trusted": false
      },
      "outputs": [],
      "source": [
        "# (3 points)\n",
        "\n",
        "from unittest import TestCase\n",
        "tc = TestCase()\n",
        "tc.assertEqual(infix_to_postfix('1 * ( 2 + 3 ) * 4'), '1 2 3 + * 4 *')\n",
        "tc.assertEqual(infix_to_postfix('1 * ( 2 + 3 * 4 ) + 5'), '1 2 3 4 * + * 5 +')\n",
        "tc.assertEqual(infix_to_postfix('1 * ( ( 2 + 3 ) * 4 ) * ( 5 - 6 )'), '1 2 3 + 4 * * 5 6 - *')"
      ]
    },
    {
      "cell_type": "markdown",
      "metadata": {
        "state": "normal"
      },
      "source": [
        "## Queue"
      ]
    },
    {
      "cell_type": "markdown",
      "metadata": {
        "state": "normal"
      },
      "source": [
        "### 3. Circular, array-backed queue\n",
        "\n",
        "In the following class, which you are to complete, the backing array will be created and populated with `None`s in the `__init__` method, and the `head` and `tail` indexes set to sentinel values (you shouldn't need to modify `__init__`). Enqueueing and Dequeueing items will take place at the tail and head, with `tail` and `head` tracking the position of the most recently enqueued item and that of the next item to dequeue, respectively. To simplify testing, your implementation should make sure that when dequeuing an item its slot in the array is reset to `None`, and when the queue is emptied its `head` and `tail` attributes should be set to `-1`.\n",
        "\n",
        "Because of the fixed size backing array, the `enqueue` operation is defined to raise a `RuntimeError` when the queue is full — the same exception should be raised when `dequeue` is called on an empty queue.\n",
        "\n",
        "Finally, the `resize` method will allow the array underlying the queue to be increased in size. It is up to you how to implement this (you can either leave the elements in their current positions, though this may require \"unwrapping\" elements, or you can simply move all elements towards the front of the array). You may assume that `resize` will only be called with a value greater than the current length of the underlying array."
      ]
    },
    {
      "cell_type": "code",
      "execution_count": 127,
      "metadata": {
        "deletable": false,
        "id": "queue",
        "starter_code": "class Queue:\n    def __init__(self, limit=10):\n        self.data = [None] * limit\n        self.head = -1\n        self.tail = -1\n\n    def enqueue(self, val):\n        pass\n        \n    def dequeue(self):\n        pass\n    \n    def resize(self, newsize):\n        assert(len(self.data) < newsize)\n\t\tpass\n    \n    def empty(self):\n        pass\n    \n    def __bool__(self):\n        return not self.empty()\n    \n    def __str__(self):\n        if not(self):\n            return ''\n        return ', '.join(str(x) for x in self)\n    \n    def __repr__(self):\n        return str(self)\n    \n    def __iter__(self):\n\t\tpass",
        "state": "graded",
        "trusted": false
      },
      "outputs": [],
      "source": [
        "class Queue:\n",
        "    def __init__(self, limit=10):\n",
        "        self.data = [None] * limit\n",
        "        self.head = -1\n",
        "        self.tail = -1\n",
        "\n",
        "    def enqueue(self, val):\n",
        "        if (self.tail + 1) % len(self.data) == self.head:\n",
        "            raise RuntimeError\n",
        "\n",
        "        if self.head == -1:\n",
        "            self.head = self.tail = 0\n",
        "            self.data[0] = val\n",
        "        else:\n",
        "            self.tail = (self.tail + 1) % len(self.data)\n",
        "            self.data[self.tail] = val\n",
        "\n",
        "    def dequeue(self):\n",
        "        if self.head == -1:\n",
        "            print('stop')\n",
        "            raise RuntimeError\n",
        "        ret = self.data[self.head]\n",
        "        self.data[self.head] = None\n",
        "\n",
        "        if self.head == self.tail:\n",
        "            self.head = self.tail = -1\n",
        "        else:\n",
        "            self.head = (self.head + 1) % len(self.data)\n",
        "\n",
        "        return ret\n",
        "\n",
        "    def resize(self, newsize):\n",
        "        assert(len(self.data) < newsize)\n",
        "        newlst = [None] * newsize\n",
        "\n",
        "        if self.head == -1:\n",
        "            self.data = newlst\n",
        "\n",
        "        elif self.head > self.tail:\n",
        "            num = self.head\n",
        "            for i in range(self.head, self.tail + len(self.data) + 1):\n",
        "                newlst[num] = self.data[i % len(self.data)]\n",
        "                num = (num+1) % newsize\n",
        "            tail = (num - 1) % newsize\n",
        "            self.data = newlst\n",
        "            self.tail = tail\n",
        "\n",
        "        else:       # no reverse\n",
        "            for i in range(self.head, self.tail+1):\n",
        "                newlst[i] = self.data[i]\n",
        "            self.data = newlst\n",
        "        \n",
        "\n",
        "    def empty(self):\n",
        "        return self.head == -1\n",
        "\n",
        "    def __bool__(self):\n",
        "        return not self.empty()\n",
        "\n",
        "    def __str__(self):\n",
        "        if not(self):\n",
        "            return ''\n",
        "        return ', '.join(str(x) for x in self)\n",
        "\n",
        "    def __repr__(self):\n",
        "        return str(self)\n",
        "\n",
        "    def __iter__(self):\n",
        "        temp = Queue()\n",
        "        temp.data = []\n",
        "        for i in range(len(self.data)):\n",
        "            temp.data.append(self.data[i])\n",
        "        head = self.head\n",
        "        tail = self.tail\n",
        "        temp.head = head\n",
        "        temp.tail = tail\n",
        "        while not temp.empty():\n",
        "            yield temp.dequeue()\n",
        "            "
      ]
    },
    {
      "cell_type": "code",
      "execution_count": 128,
      "metadata": {
        "deletable": false,
        "editable": false,
        "id": "queue_tests_1",
        "state": "read_only",
        "trusted": false
      },
      "outputs": [],
      "source": [
        "# (5 points)\n",
        "\n",
        "from unittest import TestCase\n",
        "tc = TestCase()\n",
        "\n",
        "q = Queue(5)\n",
        "tc.assertEqual(q.data, [None] * 5)\n",
        "\n",
        "for i in range(5):\n",
        "    q.enqueue(i)\n",
        "    \n",
        "with tc.assertRaises(RuntimeError):\n",
        "    q.enqueue(5)\n",
        "\n",
        "for i in range(5):\n",
        "    tc.assertEqual(q.dequeue(), i)\n",
        "    \n",
        "tc.assertTrue(q.empty())"
      ]
    },
    {
      "cell_type": "code",
      "execution_count": 129,
      "metadata": {
        "deletable": false,
        "editable": false,
        "id": "queue_tests_2",
        "state": "read_only",
        "trusted": false
      },
      "outputs": [],
      "source": [
        "# (5 points)\n",
        "\n",
        "from unittest import TestCase\n",
        "tc = TestCase()\n",
        "\n",
        "q = Queue(10)\n",
        "\n",
        "for i in range(6):\n",
        "    q.enqueue(i)\n",
        "    \n",
        "tc.assertEqual(q.data.count(None), 4)\n",
        "\n",
        "for i in range(5):\n",
        "    q.dequeue()\n",
        "tc.assertFalse(q.empty())\n",
        "tc.assertEqual(q.data.count(None), 9)\n",
        "tc.assertEqual(q.head, q.tail)\n",
        "tc.assertEqual(q.head, 5)\n",
        "\n",
        "for i in range(9):\n",
        "    q.enqueue(i)\n",
        "with tc.assertRaises(RuntimeError):\n",
        "    q.enqueue(10)\n",
        "for x, y in zip(q, [5] + list(range(9))):\n",
        "    tc.assertEqual(x, y)\n",
        "    \n",
        "tc.assertEqual(q.dequeue(), 5)\n",
        "for i in range(9):\n",
        "    tc.assertEqual(q.dequeue(), i)\n",
        "\n",
        "tc.assertTrue(q.empty())"
      ]
    },
    {
      "cell_type": "code",
      "execution_count": 132,
      "metadata": {
        "deletable": false,
        "editable": false,
        "id": "queue_tests_3",
        "state": "read_only",
        "trusted": false
      },
      "outputs": [],
      "source": [
        "# (5 points)\n",
        "\n",
        "from unittest import TestCase\n",
        "tc = TestCase()\n",
        "\n",
        "q = Queue(5)\n",
        "for i in range(5):\n",
        "    q.enqueue(i)\n",
        "for i in range(4):\n",
        "    q.dequeue()\n",
        "for i in range(5, 9):\n",
        "    q.enqueue(i)\n",
        "    \n",
        "with tc.assertRaises(RuntimeError):\n",
        "    q.enqueue(10)\n",
        "q.resize(10)\n",
        "for x, y in zip(q, range(4, 9)):\n",
        "    tc.assertEqual(x, y)\n",
        "\n",
        "\n",
        "for i in range(9, 14):\n",
        "    q.enqueue(i)\n",
        "for i in range(4, 14):\n",
        "    tc.assertEqual(q.dequeue(), i)\n",
        "    \n",
        "tc.assertTrue(q.empty())\n",
        "tc.assertEqual(q.head, -1)"
      ]
    }
  ],
  "metadata": {
    "kernelspec": {
      "display_name": "Python 3.8.8 ('base')",
      "language": "python",
      "name": "python3"
    },
    "language_info": {
      "codemirror_mode": {
        "name": "ipython",
        "version": 3
      },
      "file_extension": ".py",
      "mimetype": "text/x-python",
      "name": "python",
      "nbconvert_exporter": "python",
      "pygments_lexer": "ipython3",
      "version": "3.8.8"
    },
    "mimir": {
      "data": {},
      "last_submission_id": "",
      "project_id": "51eb81d3-cf76-4ad9-882e-1900b3821a44"
    },
    "varInspector": {
      "cols": {
        "lenName": 16,
        "lenType": 16,
        "lenVar": 40
      },
      "kernels_config": {
        "python": {
          "delete_cmd_postfix": "",
          "delete_cmd_prefix": "del ",
          "library": "var_list.py",
          "varRefreshCmd": "print(var_dic_list())"
        },
        "r": {
          "delete_cmd_postfix": ") ",
          "delete_cmd_prefix": "rm(",
          "library": "var_list.r",
          "varRefreshCmd": "cat(var_dic_list()) "
        }
      },
      "types_to_exclude": [
        "module",
        "function",
        "builtin_function_or_method",
        "instance",
        "_Feature"
      ],
      "window_display": false
    },
    "vscode": {
      "interpreter": {
        "hash": "ad2bdc8ecc057115af97d19610ffacc2b4e99fae6737bb82f5d7fb13d2f2c186"
      }
    }
  },
  "nbformat": 4,
  "nbformat_minor": 2
}
