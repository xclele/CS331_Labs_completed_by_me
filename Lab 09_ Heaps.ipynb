{
  "cells": [
    {
      "cell_type": "markdown",
      "metadata": {
        "state": "normal"
      },
      "source": [
        "# Lab: Heaps"
      ]
    },
    {
      "cell_type": "markdown",
      "metadata": {
        "state": "normal"
      },
      "source": [
        "## Overview\n",
        "\n",
        "For this assignment you will start by modifying the heap data stucture implemented in class to allow it to keep its elements sorted by an arbitrary priority (identified by a `key` function), then use the augmented heap to efficiently compute the running median of a set of numbers."
      ]
    },
    {
      "cell_type": "markdown",
      "metadata": {
        "state": "normal"
      },
      "source": [
        "## 1. Augmenting the Heap with a `key` function\n",
        "\n",
        "The heap implementation covered in class is for a so-called \"max-heap\" — i.e., one where elements are organized such that the one with the maximum value can be efficiently extracted.\n",
        "\n",
        "This limits our usage of the data structure, however. Our heap can currently only accommodate elements that have a natural ordering (i.e., they can be compared using the '`>`' and '`<`' operators as used in the implementation), and there's no way to order elements based on some partial or computed property.\n",
        "\n",
        "To make our heap more flexible, you'll update it to allow a `key` function to be passed to its initializer. This function will be used to extract a value from each element added to the heap; these values, in turn, will be used to order the elements. \n",
        "\n",
        "We can now easily create heaps with different semantics, e.g.,\n",
        "\n",
        "- `Heap(len)` will prioritize elements based on their length (e.g., applicable to strings, sequences, etc.)\n",
        "- `Heap(lambda x: -x)` can function as a *min-heap* for numbers\n",
        "- `Heap(lambda x: x.prop)` will prioritize elements based on their `prop` attribute\n",
        "\n",
        "If no `key` function is provided, the default max-heap behavior should be used — the \"`lambda x:x`\" default value for the `__init__` method does just that. \n",
        "\n",
        "You will, at the very least, need to update the `_heapify` and `add` methods, below, to complete this assignment. (Note, also, that `pop_max` has been renamed `pop`, while `max` has been renamed `peek`, to reflect their more general nature.)"
      ]
    },
    {
      "cell_type": "code",
      "execution_count": 4,
      "metadata": {
        "collapsed": true,
        "deletable": false,
        "id": "heap",
        "nbgrader": {
          "grade": false,
          "grade_id": "heap",
          "locked": false,
          "schema_version": 1,
          "solution": true
        },
        "starter_code": "class Heap:\n    def __init__(self, key=lambda x:x):\n        self.data = []\n        self.key  = key\n\n    @staticmethod\n    def _parent(idx):\n        return (idx-1)//2\n        \n    @staticmethod\n    def _left(idx):\n        return idx*2+1\n\n    @staticmethod\n    def _right(idx):\n        return idx*2+2\n    \n    def heapify(self, idx=0):\n        pass\n            \n    def add(self, x):\n        pass\n        \n    def peek(self):\n        return self.data[0]\n\n    def pop(self):\n        ret = self.data[0]\n        self.data[0] = self.data[len(self.data)-1]\n        del self.data[len(self.data)-1]\n        self.heapify()\n        return ret\n    \n    def __bool__(self):\n        return len(self.data) > 0\n\n    def __len__(self):\n        return len(self.data)\n\n    def __repr__(self):\n        return repr(self.data)",
        "state": "graded",
        "trusted": false
      },
      "outputs": [],
      "source": [
        "class Heap:\n",
        "    def __init__(self, key=lambda x: x):\n",
        "        self.data = []\n",
        "        self.key = key\n",
        "\n",
        "    @staticmethod\n",
        "    def _parent(idx):\n",
        "        return (idx-1)//2\n",
        "\n",
        "    @staticmethod\n",
        "    def _left(idx):\n",
        "        return idx*2+1\n",
        "\n",
        "    @staticmethod\n",
        "    def _right(idx):\n",
        "        return idx*2+2\n",
        "\n",
        "    def heapify(self, idx=0):\n",
        "        maxidx = idx\n",
        "\n",
        "        while Heap._left(maxidx) < len(self.data):  # still subtree\n",
        "            idx_temp = maxidx\n",
        "\n",
        "            if self.key(self.data[maxidx]) < self.key(self.data[Heap._left(maxidx)]):\n",
        "                maxidx = Heap._left(maxidx)\n",
        "            if Heap._right(idx_temp) < len(self.data) and self.key(self.data[maxidx]) < self.key(self.data[Heap._right(idx_temp)]):\n",
        "                maxidx = Heap._right(idx_temp)\n",
        "\n",
        "            if maxidx != idx_temp:\n",
        "                self.data[idx_temp], self.data[maxidx] = self.data[maxidx], self.data[idx_temp]\n",
        "            else:\n",
        "                break\n",
        "\n",
        "    def add(self, x):\n",
        "        self.data.append(x)\n",
        "        # do not use the index func cauz there may be repetitions and it'll be the first one\n",
        "        idx = len(self.data)-1\n",
        "\n",
        "        # if idx != self.data.index(x):\n",
        "        #   print(self.data.index(x),len(self.data) - 1)\n",
        "        #   raise KeyError('they are different')\n",
        "\n",
        "        while idx > 0:\n",
        "            if self.key(self.data[idx]) > self.key(self.data[Heap._parent(idx)]):\n",
        "                self.data[idx], self.data[Heap._parent(\n",
        "                    idx)] = self.data[Heap._parent(idx)], self.data[idx]\n",
        "                idx = Heap._parent(idx)\n",
        "            else:\n",
        "                break\n",
        "\n",
        "    def peek(self):\n",
        "        return self.data[0]\n",
        "\n",
        "    def pop(self):\n",
        "        ret = self.data[0]\n",
        "        self.data[0] = self.data[len(self.data)-1]\n",
        "        del self.data[len(self.data)-1]\n",
        "        self.heapify()\n",
        "        return ret\n",
        "\n",
        "    def __bool__(self):\n",
        "        return len(self.data) > 0\n",
        "\n",
        "    def __len__(self):\n",
        "        return len(self.data)\n",
        "\n",
        "    def __repr__(self):\n",
        "        return repr(self.data)\n"
      ]
    },
    {
      "cell_type": "code",
      "execution_count": 162,
      "metadata": {
        "collapsed": true,
        "deletable": false,
        "editable": false,
        "id": "heap_test_1",
        "nbgrader": {
          "grade": true,
          "grade_id": "heap_test_1",
          "locked": true,
          "points": 1,
          "schema_version": 1,
          "solution": false
        },
        "state": "read_only",
        "trusted": false
      },
      "outputs": [],
      "source": [
        "# (1 point)\n",
        "\n",
        "from unittest import TestCase\n",
        "import random\n",
        "\n",
        "tc = TestCase()\n",
        "h = Heap()\n",
        "\n",
        "random.seed(0)\n",
        "for _ in range(10):\n",
        "    h.add(random.randrange(100))\n",
        "\n",
        "tc.assertEqual(h.data, [97, 61, 65, 49, 51, 53, 62, 5, 38, 33])\n"
      ]
    },
    {
      "cell_type": "code",
      "execution_count": 163,
      "metadata": {
        "collapsed": true,
        "deletable": false,
        "editable": false,
        "id": "heap_test_2",
        "nbgrader": {
          "grade": true,
          "grade_id": "heap_test_2",
          "locked": true,
          "points": 1,
          "schema_version": 1,
          "solution": false
        },
        "state": "read_only",
        "trusted": false
      },
      "outputs": [],
      "source": [
        "# (1 point)\n",
        "\n",
        "from unittest import TestCase\n",
        "import random\n",
        "\n",
        "tc = TestCase()\n",
        "h = Heap(lambda x: -x)\n",
        "\n",
        "random.seed(0)\n",
        "for _ in range(10):\n",
        "    h.add(random.randrange(100))\n",
        "\n",
        "tc.assertEqual(h.data, [5, 33, 53, 38, 49, 65, 62, 97, 51, 61])\n"
      ]
    },
    {
      "cell_type": "code",
      "execution_count": 166,
      "metadata": {
        "collapsed": true,
        "deletable": false,
        "editable": false,
        "id": "heap_test_3",
        "nbgrader": {
          "grade": true,
          "grade_id": "heap_test_3",
          "locked": true,
          "points": 2,
          "schema_version": 1,
          "solution": false
        },
        "state": "read_only",
        "trusted": false
      },
      "outputs": [],
      "source": [
        "# (2 points)\n",
        "\n",
        "from unittest import TestCase\n",
        "import random\n",
        "\n",
        "tc = TestCase()\n",
        "h = Heap(lambda s: len(s))\n",
        "\n",
        "h.add('hello')\n",
        "h.add('hi')\n",
        "h.add('abracadabra')\n",
        "h.add('supercalifragilisticexpialidocious')\n",
        "h.add('0')\n",
        "\n",
        "tc.assertEqual(h.data,\n",
        "               ['supercalifragilisticexpialidocious', 'abracadabra', 'hello', 'hi', '0'])\n"
      ]
    },
    {
      "cell_type": "code",
      "execution_count": 168,
      "metadata": {
        "collapsed": true,
        "deletable": false,
        "editable": false,
        "id": "heap_test_4",
        "nbgrader": {
          "grade": true,
          "grade_id": "heap_test_4",
          "locked": true,
          "points": 2,
          "schema_version": 1,
          "solution": false
        },
        "state": "read_only",
        "trusted": false
      },
      "outputs": [],
      "source": [
        "# (2 points)\n",
        "\n",
        "from unittest import TestCase\n",
        "import random\n",
        "\n",
        "tc = TestCase()\n",
        "h = Heap()\n",
        "\n",
        "random.seed(0)\n",
        "lst = list(range(-1000, 1000))\n",
        "random.shuffle(lst)\n",
        "\n",
        "for x in lst:\n",
        "    h.add(x)\n",
        "\n",
        "for x in range(999, -1000, -1):\n",
        "    tc.assertEqual(x, h.pop())\n"
      ]
    },
    {
      "cell_type": "code",
      "execution_count": 169,
      "metadata": {
        "collapsed": true,
        "deletable": false,
        "editable": false,
        "id": "heap_test_5",
        "nbgrader": {
          "grade": true,
          "grade_id": "heap_test_5",
          "locked": true,
          "points": 2,
          "schema_version": 1,
          "solution": false
        },
        "state": "read_only",
        "trusted": false
      },
      "outputs": [],
      "source": [
        "# (2 points)\n",
        "\n",
        "from unittest import TestCase\n",
        "import random\n",
        "\n",
        "tc = TestCase()\n",
        "h = Heap(key=lambda x: abs(x))\n",
        "\n",
        "random.seed(0)\n",
        "lst = list(range(-1000, 1000, 3))\n",
        "random.shuffle(lst)\n",
        "for x in lst:\n",
        "    h.add(x)\n",
        "for x in reversed(sorted(range(-1000, 1000, 3), key=lambda x: abs(x))):\n",
        "    tc.assertEqual(x, h.pop())\n"
      ]
    },
    {
      "cell_type": "markdown",
      "metadata": {
        "state": "normal"
      },
      "source": [
        "## 2. Computing the Running Median\n",
        "\n",
        "The median of a series of numbers is simply the middle term if ordered by magnitude, or, if there is no middle term, the average of the two middle terms. E.g., the median of the series [3, 1, 9, 25, 12] is **9**, and the median of the series [8, 4, 11, 18] is **9.5**.\n",
        "\n",
        "If we are in the process of accumulating numerical data, it is useful to be able to compute the *running median* — where, as each new data point is encountered, an updated median is computed. This should be done, of course, as efficiently as possible.\n",
        "\n",
        "The following function demonstrates a naive way of computing the running medians based on the series passed in as an iterable."
      ]
    },
    {
      "cell_type": "code",
      "execution_count": 5,
      "metadata": {
        "collapsed": true,
        "deletable": false,
        "editable": false,
        "id": "running_medians_naive",
        "state": "read_only",
        "trusted": false
      },
      "outputs": [],
      "source": [
        "def running_medians_naive(iterable):\n",
        "    values = []\n",
        "    medians = []\n",
        "    for i, x in enumerate(iterable):\n",
        "        values.append(x)\n",
        "        values.sort()\n",
        "        if i % 2 == 0:\n",
        "            medians.append(values[i//2])\n",
        "        else:\n",
        "            medians.append((values[i//2] + values[i//2+1]) / 2)\n",
        "    return medians\n"
      ]
    },
    {
      "cell_type": "code",
      "execution_count": 47,
      "metadata": {
        "collapsed": true,
        "state": "normal",
        "trusted": false
      },
      "outputs": [
        {
          "data": {
            "text/plain": [
              "[3, 2.0, 3, 6.0, 9]"
            ]
          },
          "execution_count": 47,
          "metadata": {},
          "output_type": "execute_result"
        }
      ],
      "source": [
        "running_medians_naive([3, 1, 9, 25, 12])\n"
      ]
    },
    {
      "cell_type": "code",
      "execution_count": 11,
      "metadata": {
        "collapsed": true,
        "state": "normal",
        "trusted": false
      },
      "outputs": [
        {
          "data": {
            "text/plain": [
              "[8, 6.0, 8, 9.5]"
            ]
          },
          "execution_count": 11,
          "metadata": {},
          "output_type": "execute_result"
        }
      ],
      "source": [
        "running_medians_naive([8, 4, 11, 18])\n"
      ]
    },
    {
      "cell_type": "markdown",
      "metadata": {
        "state": "normal"
      },
      "source": [
        "Note that the function keeps track of all the values encountered during the iteration and uses them to compute the running medians, which are returned at the end as a list. The final running median, naturally, is simply the median of the entire series.\n",
        "\n",
        "Unfortunately, because the function sorts the list of values during every iteration it is incredibly inefficient. Your job is to implement a version that computes each running median in O(log N) time using, of course, the heap data structure!\n",
        "\n",
        "### Hints\n",
        "\n",
        "- You will need to use two heaps for your solution: one min-heap, and one max-heap. \n",
        "- The min-heap should be used to keep track of all values *greater than* the most recent running median, and the max-heap for all values *less than* the most recent running median — this way, the median will lie between the minimum value on the min-heap and the maximum value on the max-heap (both of which can be efficiently extracted)\n",
        "- In addition, the difference between the number of values stored in the min-heap and max-heap must never exceed 1 (to ensure the median is being computed). This can be taken care of by intelligently `pop`-ping/`add`-ing elements between the two heaps."
      ]
    },
    {
      "cell_type": "code",
      "execution_count": 9,
      "metadata": {
        "collapsed": true,
        "deletable": false,
        "id": "running_median",
        "nbgrader": {
          "grade": false,
          "grade_id": "running_median",
          "locked": false,
          "schema_version": 1,
          "solution": true
        },
        "starter_code": "def running_medians(iterable):\n    pass",
        "state": "graded",
        "trusted": false
      },
      "outputs": [],
      "source": [
        "def running_medians(iterable):\n",
        "    min_heap = Heap(lambda x: -x)\n",
        "    max_heap = Heap()\n",
        "    ret = []\n",
        "    c_median = 0\n",
        "\n",
        "    for i in iterable:\n",
        "        if i > c_median:\n",
        "            min_heap.add(i)\n",
        "        else:\n",
        "            max_heap.add(i)\n",
        "\n",
        "        if len(min_heap) - len(max_heap) > 1:\n",
        "            max_heap.add(min_heap.pop())\n",
        "        elif len(max_heap) - len(min_heap) > 1:\n",
        "            min_heap.add(max_heap.pop())\n",
        "\n",
        "        if len(max_heap) == len(min_heap):\n",
        "            c_median = (min_heap.peek() + max_heap.peek()) / 2\n",
        "        elif len(min_heap) - len(max_heap) == 1:\n",
        "            c_median = min_heap.peek()\n",
        "        elif len(max_heap) - len(min_heap) == 1:\n",
        "            c_median = max_heap.peek()\n",
        "        ret.append(c_median)\n",
        "\n",
        "    return ret\n"
      ]
    },
    {
      "cell_type": "code",
      "execution_count": 10,
      "metadata": {
        "collapsed": true,
        "deletable": false,
        "editable": false,
        "id": "running_median_1",
        "nbgrader": {
          "grade": true,
          "grade_id": "running_median_1",
          "locked": true,
          "points": 2,
          "schema_version": 1,
          "solution": false
        },
        "state": "read_only",
        "trusted": false
      },
      "outputs": [],
      "source": [
        "# (2 points)\n",
        "\n",
        "from unittest import TestCase\n",
        "tc = TestCase()\n",
        "tc.assertEqual([3, 2.0, 3, 6.0, 9], running_medians([3, 1, 9, 25, 12]))\n"
      ]
    },
    {
      "cell_type": "code",
      "execution_count": 11,
      "metadata": {
        "collapsed": true,
        "deletable": false,
        "editable": false,
        "id": "running_median_2",
        "nbgrader": {
          "grade": true,
          "grade_id": "running_median_2",
          "locked": true,
          "points": 2,
          "schema_version": 1,
          "solution": false
        },
        "state": "read_only",
        "trusted": false
      },
      "outputs": [],
      "source": [
        "# (2 points)\n",
        "\n",
        "import random\n",
        "from unittest import TestCase\n",
        "tc = TestCase()\n",
        "vals = [random.randrange(10000) for _ in range(1000)]\n",
        "tc.assertEqual(running_medians_naive(vals), running_medians(vals))\n"
      ]
    },
    {
      "cell_type": "code",
      "execution_count": 12,
      "metadata": {
        "collapsed": true,
        "deletable": false,
        "editable": false,
        "id": "running_median_3",
        "nbgrader": {
          "grade": true,
          "grade_id": "running_median_3",
          "locked": true,
          "points": 4,
          "schema_version": 1,
          "solution": false
        },
        "state": "read_only",
        "trusted": false
      },
      "outputs": [],
      "source": [
        "# (4 points) MUST COMPLETE IN UNDER 10 seconds!\n",
        "\n",
        "import random\n",
        "from unittest import TestCase\n",
        "tc = TestCase()\n",
        "vals = [random.randrange(100000) for _ in range(100001)]\n",
        "m_mid = sorted(vals[:50001])[50001//2]\n",
        "m_final = sorted(vals)[len(vals)//2]\n",
        "running = running_medians(vals)\n",
        "tc.assertEqual(m_mid, running[50000])\n",
        "tc.assertEqual(m_final, running[-1])\n"
      ]
    }
  ],
  "metadata": {
    "kernelspec": {
      "display_name": "Python 3.8.8 ('base')",
      "language": "python",
      "name": "python3"
    },
    "language_info": {
      "codemirror_mode": {
        "name": "ipython",
        "version": 3
      },
      "file_extension": ".py",
      "mimetype": "text/x-python",
      "name": "python",
      "nbconvert_exporter": "python",
      "pygments_lexer": "ipython3",
      "version": "3.8.8"
    },
    "mimir": {
      "data": {},
      "last_submission_id": "",
      "project_id": "3eff116b-b38d-49e9-be89-37af853aac5d"
    },
    "varInspector": {
      "cols": {
        "lenName": 16,
        "lenType": 16,
        "lenVar": 40
      },
      "kernels_config": {
        "python": {
          "delete_cmd_postfix": "",
          "delete_cmd_prefix": "del ",
          "library": "var_list.py",
          "varRefreshCmd": "print(var_dic_list())"
        },
        "r": {
          "delete_cmd_postfix": ") ",
          "delete_cmd_prefix": "rm(",
          "library": "var_list.r",
          "varRefreshCmd": "cat(var_dic_list()) "
        }
      },
      "types_to_exclude": [
        "module",
        "function",
        "builtin_function_or_method",
        "instance",
        "_Feature"
      ],
      "window_display": false
    },
    "vscode": {
      "interpreter": {
        "hash": "ad2bdc8ecc057115af97d19610ffacc2b4e99fae6737bb82f5d7fb13d2f2c186"
      }
    }
  },
  "nbformat": 4,
  "nbformat_minor": 2
}
